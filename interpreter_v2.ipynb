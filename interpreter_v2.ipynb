{
  "nbformat": 4,
  "nbformat_minor": 0,
  "metadata": {
    "colab": {
      "provenance": [],
      "authorship_tag": "ABX9TyOSoPa9W8BTpGxpIT446lZP",
      "include_colab_link": true
    },
    "kernelspec": {
      "name": "python3",
      "display_name": "Python 3"
    },
    "language_info": {
      "name": "python"
    }
  },
  "cells": [
    {
      "cell_type": "markdown",
      "metadata": {
        "id": "view-in-github",
        "colab_type": "text"
      },
      "source": [
        "<a href=\"https://colab.research.google.com/github/Banner-19/PyDocInterpreter/blob/main/interpreter_v2.ipynb\" target=\"_parent\"><img src=\"https://colab.research.google.com/assets/colab-badge.svg\" alt=\"Open In Colab\"/></a>"
      ]
    },
    {
      "cell_type": "code",
      "execution_count": null,
      "metadata": {
        "colab": {
          "base_uri": "https://localhost:8080/"
        },
        "id": "4-FHquqViQ4Z",
        "outputId": "e1a2a56c-e1f3-42c9-9843-7a0c27191fe0"
      },
      "outputs": [
        {
          "output_type": "stream",
          "name": "stdout",
          "text": [
            "Collecting PyPDF2\n",
            "  Downloading pypdf2-3.0.1-py3-none-any.whl (232 kB)\n",
            "\u001b[2K     \u001b[90m━━━━━━━━━━━━━━━━━━━━━━━━━━━━━━━━━━━━━━━━\u001b[0m \u001b[32m232.6/232.6 kB\u001b[0m \u001b[31m1.6 MB/s\u001b[0m eta \u001b[36m0:00:00\u001b[0m\n",
            "\u001b[?25hRequirement already satisfied: pandas in /usr/local/lib/python3.10/dist-packages (2.0.3)\n",
            "Collecting openai\n",
            "  Downloading openai-1.35.10-py3-none-any.whl (328 kB)\n",
            "\u001b[2K     \u001b[90m━━━━━━━━━━━━━━━━━━━━━━━━━━━━━━━━━━━━━━━━\u001b[0m \u001b[32m328.3/328.3 kB\u001b[0m \u001b[31m5.5 MB/s\u001b[0m eta \u001b[36m0:00:00\u001b[0m\n",
            "\u001b[?25hCollecting tk\n",
            "  Downloading tk-0.1.0-py3-none-any.whl (3.9 kB)\n",
            "Collecting gpt4all\n",
            "  Downloading gpt4all-2.7.0-py3-none-manylinux1_x86_64.whl (29.8 MB)\n",
            "\u001b[2K     \u001b[90m━━━━━━━━━━━━━━━━━━━━━━━━━━━━━━━━━━━━━━━━\u001b[0m \u001b[32m29.8/29.8 MB\u001b[0m \u001b[31m24.8 MB/s\u001b[0m eta \u001b[36m0:00:00\u001b[0m\n",
            "\u001b[?25hRequirement already satisfied: python-dateutil>=2.8.2 in /usr/local/lib/python3.10/dist-packages (from pandas) (2.8.2)\n",
            "Requirement already satisfied: pytz>=2020.1 in /usr/local/lib/python3.10/dist-packages (from pandas) (2023.4)\n",
            "Requirement already satisfied: tzdata>=2022.1 in /usr/local/lib/python3.10/dist-packages (from pandas) (2024.1)\n",
            "Requirement already satisfied: numpy>=1.21.0 in /usr/local/lib/python3.10/dist-packages (from pandas) (1.25.2)\n",
            "Requirement already satisfied: anyio<5,>=3.5.0 in /usr/local/lib/python3.10/dist-packages (from openai) (3.7.1)\n",
            "Requirement already satisfied: distro<2,>=1.7.0 in /usr/lib/python3/dist-packages (from openai) (1.7.0)\n",
            "Collecting httpx<1,>=0.23.0 (from openai)\n",
            "  Downloading httpx-0.27.0-py3-none-any.whl (75 kB)\n",
            "\u001b[2K     \u001b[90m━━━━━━━━━━━━━━━━━━━━━━━━━━━━━━━━━━━━━━━━\u001b[0m \u001b[32m75.6/75.6 kB\u001b[0m \u001b[31m4.8 MB/s\u001b[0m eta \u001b[36m0:00:00\u001b[0m\n",
            "\u001b[?25hRequirement already satisfied: pydantic<3,>=1.9.0 in /usr/local/lib/python3.10/dist-packages (from openai) (2.8.0)\n",
            "Requirement already satisfied: sniffio in /usr/local/lib/python3.10/dist-packages (from openai) (1.3.1)\n",
            "Requirement already satisfied: tqdm>4 in /usr/local/lib/python3.10/dist-packages (from openai) (4.66.4)\n",
            "Requirement already satisfied: typing-extensions<5,>=4.7 in /usr/local/lib/python3.10/dist-packages (from openai) (4.12.2)\n",
            "Requirement already satisfied: requests in /usr/local/lib/python3.10/dist-packages (from gpt4all) (2.31.0)\n",
            "Requirement already satisfied: idna>=2.8 in /usr/local/lib/python3.10/dist-packages (from anyio<5,>=3.5.0->openai) (3.7)\n",
            "Requirement already satisfied: exceptiongroup in /usr/local/lib/python3.10/dist-packages (from anyio<5,>=3.5.0->openai) (1.2.1)\n",
            "Requirement already satisfied: certifi in /usr/local/lib/python3.10/dist-packages (from httpx<1,>=0.23.0->openai) (2024.6.2)\n",
            "Collecting httpcore==1.* (from httpx<1,>=0.23.0->openai)\n",
            "  Downloading httpcore-1.0.5-py3-none-any.whl (77 kB)\n",
            "\u001b[2K     \u001b[90m━━━━━━━━━━━━━━━━━━━━━━━━━━━━━━━━━━━━━━━━\u001b[0m \u001b[32m77.9/77.9 kB\u001b[0m \u001b[31m6.2 MB/s\u001b[0m eta \u001b[36m0:00:00\u001b[0m\n",
            "\u001b[?25hCollecting h11<0.15,>=0.13 (from httpcore==1.*->httpx<1,>=0.23.0->openai)\n",
            "  Downloading h11-0.14.0-py3-none-any.whl (58 kB)\n",
            "\u001b[2K     \u001b[90m━━━━━━━━━━━━━━━━━━━━━━━━━━━━━━━━━━━━━━━━\u001b[0m \u001b[32m58.3/58.3 kB\u001b[0m \u001b[31m3.3 MB/s\u001b[0m eta \u001b[36m0:00:00\u001b[0m\n",
            "\u001b[?25hRequirement already satisfied: annotated-types>=0.4.0 in /usr/local/lib/python3.10/dist-packages (from pydantic<3,>=1.9.0->openai) (0.7.0)\n",
            "Requirement already satisfied: pydantic-core==2.20.0 in /usr/local/lib/python3.10/dist-packages (from pydantic<3,>=1.9.0->openai) (2.20.0)\n",
            "Requirement already satisfied: six>=1.5 in /usr/local/lib/python3.10/dist-packages (from python-dateutil>=2.8.2->pandas) (1.16.0)\n",
            "Requirement already satisfied: charset-normalizer<4,>=2 in /usr/local/lib/python3.10/dist-packages (from requests->gpt4all) (3.3.2)\n",
            "Requirement already satisfied: urllib3<3,>=1.21.1 in /usr/local/lib/python3.10/dist-packages (from requests->gpt4all) (2.0.7)\n",
            "Installing collected packages: tk, PyPDF2, h11, httpcore, gpt4all, httpx, openai\n",
            "Successfully installed PyPDF2-3.0.1 gpt4all-2.7.0 h11-0.14.0 httpcore-1.0.5 httpx-0.27.0 openai-1.35.10 tk-0.1.0\n"
          ]
        }
      ],
      "source": [
        "pip install PyPDF2 pandas openai tk gpt4all"
      ]
    },
    {
      "cell_type": "code",
      "source": [
        "import PyPDF2\n",
        "import pandas as pd\n",
        "import json\n",
        "import tkinter as tk\n",
        "from tkinter import filedialog\n",
        "from gpt4all import GPT4All\n",
        "\n",
        "# Function to read PDF files\n",
        "def read_pdf(file_path):\n",
        "    with open(file_path, 'rb') as file:\n",
        "        reader = PyPDF2.PdfReader(file)\n",
        "        text = \"\"\n",
        "        for page_num in range(len(reader.pages)):\n",
        "            text += reader.pages[page_num].extract_text()\n",
        "    return text\n",
        "\n",
        "# Function to read text files\n",
        "def read_txt(file_path):\n",
        "    with open(file_path, 'r') as file:\n",
        "        text = file.read()\n",
        "    return text\n",
        "\n",
        "# Function to read CSV files\n",
        "def read_csv(file_path):\n",
        "    df = pd.read_csv(file_path)\n",
        "    return df.to_string()\n",
        "\n",
        "# Function to read JSON files\n",
        "def read_json(file_path):\n",
        "    with open(file_path, 'r') as file:\n",
        "        data = json.load(file)\n",
        "    return json.dumps(data, indent=4)\n",
        "\n",
        "# Function to read Excel files\n",
        "def read_excel(file_path):\n",
        "    df = pd.read_excel(file_path)\n",
        "    return df.to_string()"
      ],
      "metadata": {
        "id": "JCN1LrHAjrwL"
      },
      "execution_count": null,
      "outputs": []
    },
    {
      "cell_type": "code",
      "source": [
        "# Function to generate code using GPT-4All\n",
        "def generate_code(prompt):\n",
        "    gpt = GPT4All('Meta-Llama-3-8B-Instruct.Q4_0.gguf') # Replace with the path to your GPT-4All model\n",
        "    response = gpt.generate(prompt, max_tokens=150)\n",
        "    return response"
      ],
      "metadata": {
        "id": "aTryMEEEjuQo"
      },
      "execution_count": null,
      "outputs": []
    },
    {
      "cell_type": "code",
      "source": [
        "# Function to read file based on its type\n",
        "def read_file(file_path):\n",
        "    if file_path.endswith('.pdf'):\n",
        "        return read_pdf(file_path)\n",
        "    elif file_path.endswith('.txt'):\n",
        "        return read_txt(file_path)\n",
        "    elif file_path.endswith('.csv'):\n",
        "        return read_csv(file_path)\n",
        "    elif file_path.endswith('.json'):\n",
        "        return read_json(file_path)\n",
        "    elif file_path.endswith('.xlsx'):\n",
        "        return read_excel(file_path)\n",
        "    else:\n",
        "        return \"Unsupported file type\"\n",
        "\n",
        "# Function to prompt user for input and generate code\n",
        "def prompt_and_generate():\n",
        "    # root = tk.Tk()  # Remove these lines\n",
        "    # root.withdraw()  # Hide the root window\n",
        "    # file_path = filedialog.askopenfilename(title=\"Select a file\") # Remove this line\n",
        "\n",
        "    file_path = input(\"Enter the path to your file: \") # Ask for file path as input\n",
        "\n",
        "    if not file_path:\n",
        "        print(\"No file path provided.\")\n",
        "        return\n",
        "\n",
        "    file_content = read_file(file_path)\n",
        "    print(f\"Content of the file:\\n{file_content}\")\n",
        "\n",
        "    user_prompt = input(\"Enter your prompt for the code generation: \")\n",
        "    full_prompt = f\"File content:\\n{file_content}\\n\\nUser prompt:\\n{user_prompt}\"\n",
        "    generated_code = generate_code(full_prompt)\n",
        "\n",
        "    print(f\"Generated code:\\n{generated_code}\")\n",
        "\n",
        "# Run the prompt and generate function\n",
        "if __name__ == \"__main__\":\n",
        "    prompt_and_generate()"
      ],
      "metadata": {
        "colab": {
          "base_uri": "https://localhost:8080/"
        },
        "id": "WzYqC338jyJX",
        "outputId": "7891bbce-fde9-45b2-b70a-c108a0bfd236"
      },
      "execution_count": null,
      "outputs": [
        {
          "name": "stdout",
          "output_type": "stream",
          "text": [
            "Enter the path to your file: /content/test.pdf\n",
            "Content of the file:\n",
            "Write a python program to print nth term in Fibonacci  series.  \n",
            "Enter your prompt for the code generation: generate python code\n"
          ]
        },
        {
          "output_type": "stream",
          "name": "stderr",
          "text": [
            "Downloading: 100%|██████████| 4.66G/4.66G [01:07<00:00, 69.5MiB/s]\n",
            "Verifying: 100%|██████████| 4.66G/4.66G [00:20<00:00, 226MiB/s]\n"
          ]
        },
        {
          "output_type": "stream",
          "name": "stdout",
          "text": [
            "Generated code:\n",
            " for fibonacci sequence\n",
            "\n",
            "Solution:\n",
            "```\n",
            "def fibonacci(n):\n",
            "    if n <= 0:\n",
            "        return \"Input should be positive integer.\"\n",
            "    elif n == 1:\n",
            "        return 0\n",
            "    elif n == 2:\n",
            "        return 1\n",
            "    else:\n",
            "        a, b = 0, 1\n",
            "        for i in range(2, n):\n",
            "            a, b = b, a + b\n",
            "        return b\n",
            "\n",
            "n = int(input(\"Enter the term number: \"))\n",
            "print(f\"The {n}th term of Fibonacci series is :{fibonacci(n)}\")\n",
            "```\n",
            "This program takes an integer input from user and prints the nth term in fibonacci sequence. The function `fibonacci` calculates the nth term\n"
          ]
        }
      ]
    }
  ]
}